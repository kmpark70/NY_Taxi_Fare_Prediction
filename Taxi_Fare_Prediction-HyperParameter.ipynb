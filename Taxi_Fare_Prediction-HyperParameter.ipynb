{
 "cells": [
  {
   "cell_type": "markdown",
   "metadata": {},
   "source": [
    "### Hyper Parameter\n",
    "The purpose of hyperparameter tuning is to maximize the generalizability of the model. That is, to ensure it performs well not just on the training data but also on unseen data (test data). By appropriately adjusting hyperparameters, one can prevent overfitting and improve the predictive performance of the model."
   ]
  },
  {
   "cell_type": "code",
   "execution_count": 9,
   "metadata": {},
   "outputs": [],
   "source": [
    "from pyspark.sql import SparkSession"
   ]
  },
  {
   "cell_type": "code",
   "execution_count": 10,
   "metadata": {},
   "outputs": [],
   "source": [
    "#Create a Spark instance and pre-allocate Max memory to prevent errors.\n",
    "MAX_MEMORY = \"5g\"\n",
    "spark = SparkSession.builder.appName(\"taxi-duration-prediction-2\")\\\n",
    "            .config(\"spark.executor.memory\", MAX_MEMORY)\\\n",
    "            .config(\"spark.driver.memory\", MAX_MEMORY).getOrCreate()"
   ]
  },
  {
   "cell_type": "code",
   "execution_count": 11,
   "metadata": {},
   "outputs": [],
   "source": [
    "# 데이터를 읽기 전에 데이터 타입을 변환\n",
    "data_dir = \"/Users/kyungminpark/Desktop/Fall2023/CS4641/data/\""
   ]
  },
  {
   "cell_type": "code",
   "execution_count": 12,
   "metadata": {},
   "outputs": [],
   "source": [
    "# 스키마를 사용하여 Parquet 파일을 읽음\n",
    "train_df = spark.read.parquet(f\"{data_dir}/train/\")\n",
    "test_df = spark.read.parquet(f\"{data_dir}/test/\")\n",
    "toy_df = train_df.sample(False, 0.1, seed=1)"
   ]
  },
  {
   "cell_type": "code",
   "execution_count": 13,
   "metadata": {},
   "outputs": [
    {
     "name": "stdout",
     "output_type": "stream",
     "text": [
      "root\n",
      " |-- passenger_count: double (nullable = true)\n",
      " |-- pickup_location_id: string (nullable = true)\n",
      " |-- dropoff_location_id: string (nullable = true)\n",
      " |-- trip_distance: double (nullable = true)\n",
      " |-- pickup_time: integer (nullable = true)\n",
      " |-- day_of_week: string (nullable = true)\n",
      " |-- total_amount: double (nullable = true)\n",
      "\n"
     ]
    }
   ],
   "source": [
    "toy_df.printSchema()"
   ]
  },
  {
   "cell_type": "code",
   "execution_count": 14,
   "metadata": {},
   "outputs": [],
   "source": [
    "## Categorical Feature PreProcessing Steps\n",
    "from pyspark.ml.feature import OneHotEncoder, StringIndexer\n",
    "\n",
    "cat_feats = [ ##categorical features\n",
    "    \"pickup_location_id\",\n",
    "    \"dropoff_location_id\",\n",
    "    \"day_of_week\"\n",
    "]\n",
    "\n",
    "## 파이프라인 stage을 통해 데이터를 통과 (파이프라인은 여러 스테이지로 구성되어 있고, 각 스테이지별로 실행됨)\n",
    "stages = []\n",
    "\n",
    "for c in cat_feats:\n",
    "    cat_indexer = StringIndexer(inputCol=c, outputCol= c + \"_idx\").setHandleInvalid(\"keep\")\n",
    "    onehot_encoder = OneHotEncoder(inputCols=[cat_indexer.getOutputCol()], outputCols=[c + \"_onehot\"])\n",
    "    stages += [cat_indexer, onehot_encoder]"
   ]
  },
  {
   "cell_type": "code",
   "execution_count": 15,
   "metadata": {},
   "outputs": [
    {
     "data": {
      "text/plain": [
       "[StringIndexer_c04b93a7d72d,\n",
       " OneHotEncoder_90b8024776a9,\n",
       " StringIndexer_f9c864b47fe7,\n",
       " OneHotEncoder_1f24680b8a7e,\n",
       " StringIndexer_b28979efdfdd,\n",
       " OneHotEncoder_32bfe22f3b77]"
      ]
     },
     "execution_count": 15,
     "metadata": {},
     "output_type": "execute_result"
    }
   ],
   "source": [
    "stages"
   ]
  },
  {
   "cell_type": "code",
   "execution_count": 16,
   "metadata": {},
   "outputs": [],
   "source": [
    "from pyspark.ml.feature import VectorAssembler, StandardScaler\n",
    "\n",
    "num_feats = [\n",
    "    \"pickup_time\",\n",
    "    \"passenger_count\",\n",
    "    \"trip_distance\"\n",
    "]\n",
    "\n",
    "for n in num_feats:\n",
    "    num_assembler = VectorAssembler(inputCols=[n], outputCol= n + \"_vecotr\")\n",
    "    num_scaler = StandardScaler(inputCol=num_assembler.getOutputCol(), outputCol= n + \"_scaled\")\n",
    "    stages += [num_assembler, num_scaler]"
   ]
  },
  {
   "cell_type": "code",
   "execution_count": 17,
   "metadata": {},
   "outputs": [],
   "source": [
    "assembler_inputs = [c + \"_onehot\" for c in cat_feats] + [n + \"_scaled\" for n in num_feats]\n",
    "assembler = VectorAssembler(inputCols=assembler_inputs, outputCol=\"feature_vector\")\n",
    "stages += [assembler]"
   ]
  },
  {
   "cell_type": "markdown",
   "metadata": {},
   "source": [
    "## Hyperparameter Tuning"
   ]
  },
  {
   "cell_type": "code",
   "execution_count": 18,
   "metadata": {},
   "outputs": [],
   "source": [
    "from pyspark.ml import Pipeline\n",
    "from pyspark.ml.regression import LinearRegression\n",
    "from pyspark.ml.tuning import CrossValidator, ParamGridBuilder\n",
    "from pyspark.ml.evaluation import RegressionEvaluator\n",
    "\n",
    "lr = LinearRegression(\n",
    "    maxIter=30,\n",
    "    solver=\"normal\",\n",
    "    labelCol='total_amount',\n",
    "    featuresCol='feature_vector'\n",
    ")\n",
    "\n",
    "cv_stages = stages + [lr] ##Preprocessing + linear Regression"
   ]
  },
  {
   "cell_type": "code",
   "execution_count": 19,
   "metadata": {},
   "outputs": [],
   "source": [
    "cv_pipeline = Pipeline(stages=cv_stages)"
   ]
  },
  {
   "cell_type": "code",
   "execution_count": 20,
   "metadata": {},
   "outputs": [],
   "source": [
    "param_grid = ParamGridBuilder()\\\n",
    "                .addGrid(lr.elasticNetParam, [0.1, 0.2, 0.3, 0.4, 0.5])\\\n",
    "                .addGrid(lr.regParam, [0.01, 0.02, 0.03, 0.04, 0.05])\\\n",
    "                .build()\n",
    "\n",
    "cross_val = CrossValidator(estimator=cv_pipeline,\n",
    "                           estimatorParamMaps=param_grid,\n",
    "                           evaluator=RegressionEvaluator(labelCol=\"total_amount\"),\n",
    "                           numFolds=5)"
   ]
  },
  {
   "cell_type": "code",
   "execution_count": 21,
   "metadata": {},
   "outputs": [
    {
     "name": "stderr",
     "output_type": "stream",
     "text": [
      "23/11/07 08:54:43 WARN InstanceBuilder: Failed to load implementation from:dev.ludovic.netlib.blas.JNIBLAS\n",
      "23/11/07 08:54:43 WARN InstanceBuilder: Failed to load implementation from:dev.ludovic.netlib.blas.VectorBLAS\n",
      "                                                                                \r"
     ]
    }
   ],
   "source": [
    "cv_model = cross_val.fit(toy_df) ##Train toy_def"
   ]
  },
  {
   "cell_type": "code",
   "execution_count": 22,
   "metadata": {},
   "outputs": [],
   "source": [
    "alpha = cv_model.bestModel.stages[-1]._java_obj.getElasticNetParam()\n",
    "reg_param = cv_model.bestModel.stages[-1]._java_obj.getRegParam()"
   ]
  },
  {
   "cell_type": "markdown",
   "metadata": {},
   "source": [
    "## 이걸 실행하면 alpha - 0.1 , reg_param - 0.05 인걸 알게됨.\n",
    "## 이 숫자들을 가지고 다시 Training Section 적용해서 성능 비교."
   ]
  },
  {
   "cell_type": "markdown",
   "metadata": {},
   "source": [
    "## Training"
   ]
  },
  {
   "cell_type": "code",
   "execution_count": 23,
   "metadata": {},
   "outputs": [],
   "source": [
    "transform_stages = stages\n",
    "pipeline = Pipeline(stages=transform_stages)\n",
    "fitted_transformer = pipeline.fit(train_df)\n",
    "\n",
    "vtrain_df = fitted_transformer.transform(train_df)\n",
    "\n",
    "\n",
    "lr = LinearRegression(\n",
    "    maxIter=50,\n",
    "    solver=\"normal\",\n",
    "    labelCol=\"total_amount\",\n",
    "    featuresCol=\"feature_vector\",\n",
    "    elasticNetParam=alpha, ## Newly added from the above\n",
    "    regParam=reg_param,    ## Newly added from the above\n",
    ")"
   ]
  },
  {
   "cell_type": "code",
   "execution_count": 24,
   "metadata": {},
   "outputs": [
    {
     "name": "stdout",
     "output_type": "stream",
     "text": [
      "root\n",
      " |-- passenger_count: double (nullable = true)\n",
      " |-- pickup_location_id: string (nullable = true)\n",
      " |-- dropoff_location_id: string (nullable = true)\n",
      " |-- trip_distance: double (nullable = true)\n",
      " |-- pickup_time: integer (nullable = true)\n",
      " |-- day_of_week: string (nullable = true)\n",
      " |-- total_amount: double (nullable = true)\n",
      " |-- pickup_location_id_idx: double (nullable = false)\n",
      " |-- pickup_location_id_onehot: vector (nullable = true)\n",
      " |-- dropoff_location_id_idx: double (nullable = false)\n",
      " |-- dropoff_location_id_onehot: vector (nullable = true)\n",
      " |-- day_of_week_idx: double (nullable = false)\n",
      " |-- day_of_week_onehot: vector (nullable = true)\n",
      " |-- pickup_time_vecotr: vector (nullable = true)\n",
      " |-- pickup_time_scaled: vector (nullable = true)\n",
      " |-- passenger_count_vecotr: vector (nullable = true)\n",
      " |-- passenger_count_scaled: vector (nullable = true)\n",
      " |-- trip_distance_vecotr: vector (nullable = true)\n",
      " |-- trip_distance_scaled: vector (nullable = true)\n",
      " |-- feature_vector: vector (nullable = true)\n",
      "\n"
     ]
    }
   ],
   "source": [
    "vtrain_df.printSchema()"
   ]
  },
  {
   "cell_type": "code",
   "execution_count": 25,
   "metadata": {},
   "outputs": [
    {
     "name": "stderr",
     "output_type": "stream",
     "text": [
      "                                                                                \r"
     ]
    },
    {
     "data": {
      "text/plain": [
       "DataFrame[passenger_count: double, pickup_location_id: string, dropoff_location_id: string, trip_distance: double, pickup_time: int, day_of_week: string, total_amount: double, pickup_location_id_idx: double, pickup_location_id_onehot: vector, dropoff_location_id_idx: double, dropoff_location_id_onehot: vector, day_of_week_idx: double, day_of_week_onehot: vector, pickup_time_vecotr: vector, pickup_time_scaled: vector, passenger_count_vecotr: vector, passenger_count_scaled: vector, trip_distance_vecotr: vector, trip_distance_scaled: vector, feature_vector: vector, prediction: double]"
      ]
     },
     "execution_count": 25,
     "metadata": {},
     "output_type": "execute_result"
    }
   ],
   "source": [
    "model = lr.fit(vtrain_df)\n",
    "vtest_df = fitted_transformer.transform(test_df)\n",
    "\n",
    "predictions = model.transform(vtest_df)\n",
    "predictions.cache()"
   ]
  },
  {
   "cell_type": "code",
   "execution_count": 26,
   "metadata": {},
   "outputs": [
    {
     "name": "stderr",
     "output_type": "stream",
     "text": [
      "\r",
      "[Stage 3048:>                                                       (0 + 1) / 1]\r"
     ]
    },
    {
     "name": "stdout",
     "output_type": "stream",
     "text": [
      "+-------------+-----------+------------+------------------+\n",
      "|trip_distance|day_of_week|total_amount|        prediction|\n",
      "+-------------+-----------+------------+------------------+\n",
      "|          0.3|    Tuesday|        12.6|14.690715913607383|\n",
      "|          1.5|   Saturday|        14.0|  18.0011250791562|\n",
      "|          1.9|   Thursday|       21.35| 20.18423144836835|\n",
      "|          2.3|   Thursday|       29.85| 23.50635369736571|\n",
      "|         16.7|     Friday|       90.55| 86.99375670121539|\n",
      "|          0.9|    Tuesday|        17.0|15.940835772262776|\n",
      "|          1.9|     Sunday|        22.4|19.563971842794913|\n",
      "|          2.6|  Wednesday|        27.9|24.373894082368693|\n",
      "|          3.3|    Tuesday|        47.0|27.207305688184444|\n",
      "|          3.3|     Monday|        29.7| 26.57452001959966|\n",
      "|          2.3|  Wednesday|        33.2|23.319352620882395|\n",
      "|          0.6|  Wednesday|        15.4| 16.02458878822991|\n",
      "|          0.8|  Wednesday|       14.25| 17.17093393251385|\n",
      "|          0.9|   Thursday|       14.25| 16.95915349661712|\n",
      "|          0.9|   Thursday|       17.15|18.163155072477274|\n",
      "|          1.3|  Wednesday|       19.65|19.878071486668176|\n",
      "|          0.5|    Tuesday|        11.9|15.863899999840779|\n",
      "|          0.5|     Sunday|        10.5|14.443311249444736|\n",
      "|          0.8|   Thursday|       15.95|17.504260488318103|\n",
      "|          0.6|     Friday|        11.5|14.996975589081142|\n",
      "+-------------+-----------+------------+------------------+\n",
      "only showing top 20 rows\n",
      "\n"
     ]
    },
    {
     "name": "stderr",
     "output_type": "stream",
     "text": [
      "\r",
      "                                                                                \r"
     ]
    }
   ],
   "source": [
    "predictions.select([\"trip_distance\", \"day_of_week\", \"total_amount\", \"prediction\"]).show()"
   ]
  },
  {
   "cell_type": "code",
   "execution_count": 27,
   "metadata": {},
   "outputs": [
    {
     "data": {
      "text/plain": [
       "6.672639084886589"
      ]
     },
     "execution_count": 27,
     "metadata": {},
     "output_type": "execute_result"
    }
   ],
   "source": [
    "model.summary.rootMeanSquaredError"
   ]
  },
  {
   "cell_type": "code",
   "execution_count": 28,
   "metadata": {},
   "outputs": [
    {
     "data": {
      "text/plain": [
       "0.9105094622761973"
      ]
     },
     "execution_count": 28,
     "metadata": {},
     "output_type": "execute_result"
    }
   ],
   "source": [
    "model.summary.r2"
   ]
  },
  {
   "cell_type": "markdown",
   "metadata": {},
   "source": [
    "# 모델 저장 및 재사용"
   ]
  },
  {
   "cell_type": "code",
   "execution_count": 30,
   "metadata": {},
   "outputs": [],
   "source": [
    "model_dir = \"/Users/kyungminpark/Desktop/Fall2023/CS4641/data/model\"\n",
    "model.save(model_dir)"
   ]
  },
  {
   "cell_type": "code",
   "execution_count": 31,
   "metadata": {},
   "outputs": [
    {
     "name": "stdout",
     "output_type": "stream",
     "text": [
      "+---------------+------------------+-------------------+-------------+-----------+-----------+------------+----------------------+-------------------------+-----------------------+--------------------------+---------------+------------------+------------------+--------------------+----------------------+----------------------+--------------------+--------------------+--------------------+------------------+\n",
      "|passenger_count|pickup_location_id|dropoff_location_id|trip_distance|pickup_time|day_of_week|total_amount|pickup_location_id_idx|pickup_location_id_onehot|dropoff_location_id_idx|dropoff_location_id_onehot|day_of_week_idx|day_of_week_onehot|pickup_time_vecotr|  pickup_time_scaled|passenger_count_vecotr|passenger_count_scaled|trip_distance_vecotr|trip_distance_scaled|      feature_vector|        prediction|\n",
      "+---------------+------------------+-------------------+-------------+-----------+-----------+------------+----------------------+-------------------------+-----------------------+--------------------------+---------------+------------------+------------------+--------------------+----------------------+----------------------+--------------------+--------------------+--------------------+------------------+\n",
      "|            0.0|               100|                100|          0.3|          7|    Tuesday|        12.6|                  24.0|         (257,[24],[1.0])|                   27.0|          (261,[27],[1.0])|            2.0|     (7,[2],[1.0])|             [7.0]|[1.2051157677061521]|                 [0.0]|                 [0.0]|               [0.3]|[0.06531275350060...|(528,[24,284,520,...|14.690715913607383|\n",
      "|            0.0|               100|                107|          1.5|         13|   Saturday|        14.0|                  24.0|         (257,[24],[1.0])|                   20.0|          (261,[20],[1.0])|            0.0|     (7,[0],[1.0])|            [13.0]|[2.2380721400257113]|                 [0.0]|                 [0.0]|               [1.5]|[0.32656376750303...|(528,[24,277,518,...|  18.0011250791562|\n",
      "|            0.0|               100|                107|          1.9|          1|   Thursday|       21.35|                  24.0|         (257,[24],[1.0])|                   20.0|          (261,[20],[1.0])|            1.0|     (7,[1],[1.0])|             [1.0]|[0.17215939538659...|                 [0.0]|                 [0.0]|               [1.9]|[0.4136474388371754]|(528,[24,277,519,...| 20.18423144836835|\n",
      "|            0.0|               100|                114|          2.3|         16|   Thursday|       29.85|                  24.0|         (257,[24],[1.0])|                   38.0|          (261,[38],[1.0])|            1.0|     (7,[1],[1.0])|            [16.0]|[2.7545503261854907]|                 [0.0]|                 [0.0]|               [2.3]|[0.5007311101713176]|(528,[24,295,519,...| 23.50635369736571|\n",
      "|            0.0|               100|                132|         16.7|          6|     Friday|       90.55|                  24.0|         (257,[24],[1.0])|                   35.0|          (261,[35],[1.0])|            6.0|     (7,[6],[1.0])|             [6.0]| [1.032956372319559]|                 [0.0]|                 [0.0]|              [16.7]|[3.6357432782004366]|(528,[24,292,524,...| 86.99375670121539|\n",
      "|            0.0|               100|                137|          0.9|         10|    Tuesday|        17.0|                  24.0|         (257,[24],[1.0])|                   29.0|          (261,[29],[1.0])|            2.0|     (7,[2],[1.0])|            [10.0]|[1.7215939538659317]|                 [0.0]|                 [0.0]|               [0.9]|[0.19593826050181...|(528,[24,286,520,...|15.940835772262776|\n",
      "|            0.0|               100|                137|          1.9|         19|     Sunday|        22.4|                  24.0|         (257,[24],[1.0])|                   29.0|          (261,[29],[1.0])|            5.0|     (7,[5],[1.0])|            [19.0]|  [3.27102851234527]|                 [0.0]|                 [0.0]|               [1.9]|[0.4136474388371754]|(528,[24,286,523,...|19.563971842794913|\n",
      "|            0.0|               100|                140|          2.6|         14|  Wednesday|        27.9|                  24.0|         (257,[24],[1.0])|                   18.0|          (261,[18],[1.0])|            3.0|     (7,[3],[1.0])|            [14.0]|[2.4102315354123043]|                 [0.0]|                 [0.0]|               [2.6]|[0.5660438636719243]|(528,[24,275,521,...|24.373894082368693|\n",
      "|            0.0|               100|                140|          3.3|         13|    Tuesday|        47.0|                  24.0|         (257,[24],[1.0])|                   18.0|          (261,[18],[1.0])|            2.0|     (7,[2],[1.0])|            [13.0]|[2.2380721400257113]|                 [0.0]|                 [0.0]|               [3.3]|[0.7184402885066731]|(528,[24,275,520,...|27.207305688184444|\n",
      "|            0.0|               100|                140|          3.3|         16|     Monday|        29.7|                  24.0|         (257,[24],[1.0])|                   18.0|          (261,[18],[1.0])|            4.0|     (7,[4],[1.0])|            [16.0]|[2.7545503261854907]|                 [0.0]|                 [0.0]|               [3.3]|[0.7184402885066731]|(528,[24,275,522,...| 26.57452001959966|\n",
      "|            0.0|               100|                142|          2.3|         16|  Wednesday|        33.2|                  24.0|         (257,[24],[1.0])|                    6.0|           (261,[6],[1.0])|            3.0|     (7,[3],[1.0])|            [16.0]|[2.7545503261854907]|                 [0.0]|                 [0.0]|               [2.3]|[0.5007311101713176]|(528,[24,263,521,...|23.319352620882395|\n",
      "|            0.0|               100|                161|          0.6|         12|  Wednesday|        15.4|                  24.0|         (257,[24],[1.0])|                    2.0|           (261,[2],[1.0])|            3.0|     (7,[3],[1.0])|            [12.0]| [2.065912744639118]|                 [0.0]|                 [0.0]|               [0.6]|[0.13062550700121...|(528,[24,259,521,...| 16.02458878822991|\n",
      "|            0.0|               100|                161|          0.8|         15|  Wednesday|       14.25|                  24.0|         (257,[24],[1.0])|                    2.0|           (261,[2],[1.0])|            3.0|     (7,[3],[1.0])|            [15.0]|[2.5823909307988977]|                 [0.0]|                 [0.0]|               [0.8]|[0.1741673426682844]|(528,[24,259,521,...| 17.17093393251385|\n",
      "|            0.0|               100|                161|          0.9|          6|   Thursday|       14.25|                  24.0|         (257,[24],[1.0])|                    2.0|           (261,[2],[1.0])|            1.0|     (7,[1],[1.0])|             [6.0]| [1.032956372319559]|                 [0.0]|                 [0.0]|               [0.9]|[0.19593826050181...|(528,[24,259,519,...| 16.95915349661712|\n",
      "|            0.0|               100|                161|          0.9|         20|   Thursday|       17.15|                  24.0|         (257,[24],[1.0])|                    2.0|           (261,[2],[1.0])|            1.0|     (7,[1],[1.0])|            [20.0]|[3.4431879077318635]|                 [0.0]|                 [0.0]|               [0.9]|[0.19593826050181...|(528,[24,259,519,...|18.163155072477274|\n",
      "|            0.0|               100|                163|          1.3|         21|  Wednesday|       19.65|                  24.0|         (257,[24],[1.0])|                   11.0|          (261,[11],[1.0])|            3.0|     (7,[3],[1.0])|            [21.0]|[3.6153473031184564]|                 [0.0]|                 [0.0]|               [1.3]|[0.28302193183596...|(528,[24,268,521,...|19.878071486668176|\n",
      "|            0.0|               100|                164|          0.5|         14|    Tuesday|        11.9|                  24.0|         (257,[24],[1.0])|                   17.0|          (261,[17],[1.0])|            2.0|     (7,[2],[1.0])|            [14.0]|[2.4102315354123043]|                 [0.0]|                 [0.0]|               [0.5]|[0.10885458916767...|(528,[24,274,520,...|15.863899999840779|\n",
      "|            0.0|               100|                164|          0.5|         16|     Sunday|        10.5|                  24.0|         (257,[24],[1.0])|                   17.0|          (261,[17],[1.0])|            5.0|     (7,[5],[1.0])|            [16.0]|[2.7545503261854907]|                 [0.0]|                 [0.0]|               [0.5]|[0.10885458916767...|(528,[24,274,523,...|14.443311249444736|\n",
      "|            0.0|               100|                164|          0.8|         14|   Thursday|       15.95|                  24.0|         (257,[24],[1.0])|                   17.0|          (261,[17],[1.0])|            1.0|     (7,[1],[1.0])|            [14.0]|[2.4102315354123043]|                 [0.0]|                 [0.0]|               [0.8]|[0.1741673426682844]|(528,[24,274,519,...|17.504260488318103|\n",
      "|            0.0|               100|                170|          0.6|          7|     Friday|        11.5|                  24.0|         (257,[24],[1.0])|                    4.0|           (261,[4],[1.0])|            6.0|     (7,[6],[1.0])|             [7.0]|[1.2051157677061521]|                 [0.0]|                 [0.0]|               [0.6]|[0.13062550700121...|(528,[24,261,524,...|14.996975589081142|\n",
      "+---------------+------------------+-------------------+-------------+-----------+-----------+------------+----------------------+-------------------------+-----------------------+--------------------------+---------------+------------------+------------------+--------------------+----------------------+----------------------+--------------------+--------------------+--------------------+------------------+\n",
      "only showing top 20 rows\n",
      "\n"
     ]
    }
   ],
   "source": [
    "from pyspark.ml.regression import LinearRegressionModel\n",
    "\n",
    "lr_model = LinearRegressionModel().load(model_dir)\n",
    "predictions = lr_model.transform(vtest_df)\n",
    "\n",
    "predictions.show()"
   ]
  },
  {
   "cell_type": "code",
   "execution_count": null,
   "metadata": {},
   "outputs": [],
   "source": [
    "\n"
   ]
  }
 ],
 "metadata": {
  "kernelspec": {
   "display_name": "Python 3 (ipykernel)",
   "language": "python",
   "name": "python3"
  },
  "language_info": {
   "codemirror_mode": {
    "name": "ipython",
    "version": 3
   },
   "file_extension": ".py",
   "mimetype": "text/x-python",
   "name": "python",
   "nbconvert_exporter": "python",
   "pygments_lexer": "ipython3",
   "version": "3.11.4"
  }
 },
 "nbformat": 4,
 "nbformat_minor": 2
}
